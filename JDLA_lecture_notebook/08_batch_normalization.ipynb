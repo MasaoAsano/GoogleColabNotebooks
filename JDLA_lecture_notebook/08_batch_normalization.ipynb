{
 "cells": [
  {
   "cell_type": "markdown",
   "metadata": {},
   "source": [
    "# バッチ正規化（CIFAR10を用いた物体認識）\n",
    "\n",
    "---\n",
    "## 目的\n",
    "畳み込みニューラルネットワーク (Convolutional Neural Network; CNN) を用いてCIFAR10データセットに対する物体認識を行う．\n",
    "その際，バッチ正規化を用いることで，認識性能がどのように変化するかを確認する．\n",
    "\n",
    "## 対応するチャプター\n",
    "* 8.7.1: バッチ正規化\n",
    "* 8.1.3: バッチアルゴリズムとミニバッチアルゴリズム\n",
    "* 8.3.1: 確率的勾配降下法\n",
    "* 9.1: 畳み込み処理\n",
    "* 9.3: プーリング\n",
    "\n",
    "\n",
    "## モジュールのインポート\n",
    "プログラムの実行に必要なモジュールをインポートします．"
   ]
  },
  {
   "cell_type": "code",
   "execution_count": null,
   "metadata": {},
   "outputs": [],
   "source": [
    "from time import time\n",
    "import numpy as np\n",
    "import matplotlib.pyplot as plt\n",
    "\n",
    "import chainer\n",
    "from chainer.datasets import get_cifar10\n",
    "from chainer import cuda\n",
    "from chainer import Variable\n",
    "import chainer.functions as F\n",
    "import chainer.links as L"
   ]
  },
  {
   "cell_type": "markdown",
   "metadata": {},
   "source": [
    "## GPUの確認\n",
    "GPUを使用した計算が可能かどうかを確認します．\n",
    "\n",
    "`GPU avilability: True`と表示されれば，GPUを使用した計算をChainerで行うことが可能です．\n",
    "Falseとなっている場合は，上記の「Google Colaboratoryの設定確認・変更」に記載している手順にしたがって，設定を変更した後に，モジュールのインポートから始めてください．"
   ]
  },
  {
   "cell_type": "code",
   "execution_count": null,
   "metadata": {},
   "outputs": [],
   "source": [
    "print('GPU availability:', chainer.cuda.available)\n",
    "print('cuDNN availablility:', chainer.cuda.cudnn_enabled)"
   ]
  },
  {
   "cell_type": "markdown",
   "metadata": {},
   "source": [
    "## データセットの読み込み\n",
    "CIFAR10データセットを読み込みます．\n",
    "\n",
    "読み込んだ学習データのサイズを確認します．\n",
    "学習データは5万枚，1つのデータサイズは3x32x32の画像のような形式となっています．\n",
    "これは32x32ピクセルのカラー画像という意味になります．"
   ]
  },
  {
   "cell_type": "code",
   "execution_count": null,
   "metadata": {},
   "outputs": [],
   "source": [
    "train_dataset, test_dataset = chainer.datasets.get_cifar10()\n",
    "train_x,train_y = train_dataset._datasets\n",
    "test_x, test_y = test_dataset._datasets\n",
    "\n",
    "print(train_x.shape, train_y.shape)\n",
    "print(test_x.shape, test_y.shape)"
   ]
  },
  {
   "cell_type": "markdown",
   "metadata": {
    "colab_type": "text",
    "id": "LKi4gTk8vlxe"
   },
   "source": [
    "### CIFAR10データセットの表示\n",
    "CIFAR10データセットに含まれる画像を表示してみます．\n",
    "ここでは，matplotlibを用いて複数の画像を表示させるプログラムを利用します．"
   ]
  },
  {
   "cell_type": "code",
   "execution_count": null,
   "metadata": {
    "colab": {
     "base_uri": "https://localhost:8080/",
     "height": 205
    },
    "colab_type": "code",
    "executionInfo": {
     "elapsed": 1458,
     "status": "ok",
     "timestamp": 1562840087363,
     "user": {
      "displayName": "Tsubasa Hirakawa",
      "photoUrl": "https://lh5.googleusercontent.com/-p6Kjr3nd0AU/AAAAAAAAAAI/AAAAAAAAJG0/tCF9JFOo7tk/s64/photo.jpg",
      "userId": "03545166870843244307"
     },
     "user_tz": -540
    },
    "id": "sI33R2gVvl2P",
    "outputId": "c9b60aaa-5a68-4c4d-9ae1-3054d67d5c30"
   },
   "outputs": [],
   "source": [
    "import matplotlib.pyplot as plt\n",
    "\n",
    "cols = 10\n",
    "rows = 2\n",
    "\n",
    "plt.clf()\n",
    "fig = plt.figure(figsize=(14, 4.8))\n",
    "for r in range(rows):\n",
    "    for c in range(cols):\n",
    "        ax = fig.add_subplot(r+1, cols, c+1)\n",
    "        ax.imshow(train_x[cols * r + c].transpose(1,2,0))\n",
    "        ax.set_axis_off()\n",
    "plt.show()"
   ]
  },
  {
   "cell_type": "markdown",
   "metadata": {
    "colab_type": "text",
    "id": "xgDd3iX2zmSV"
   },
   "source": [
    "## ネットワークモデルの定義\n",
    "畳み込みニューラルネットワークを定義します．\n",
    "\n",
    "ここでは，畳み込み層2層，全結合層3層から構成されるネットワークとします．\n",
    "\n",
    "1層目の畳み込み層は入力チャンネル数が1，出力する特徴マップ数が16，畳み込むフィルタサイズが3x3です．\n",
    "2層目の畳み込み層は入力チャネル数が16，出力する特徴マップ数が32，畳み込むフィルタサイズは同じく3x3です．\n",
    "1つ目の全結合層は入力ユニット数は不定 (`None`) とし，出力は1024としています．\n",
    "次の全結合層入力，出力共に1024，出力層は入力が1024，出力が10です．\n",
    "これらの各層の構成を`__init__`関数で定義します．\n",
    "\n",
    "次に，`__call__`関数では，定義した層を接続して処理するように記述します．\n",
    "`__call__`関数の引数`x`は入力データです．\n",
    "それを`__init__`関数で定義した`conv1`に与え，その出力を活性化関数である`relu`関数に与えます．\n",
    "そして，その出力を`max_pooling_2d`に入力して，プーリング処理結果を`h`として出力します．\n",
    "`h`は`conv2`に与えられて畳み込み処理とプーリング処理を行います．\n",
    "そして，出力`h`を`l1`に与えて全結合層の処理を行います．\n",
    "最終的に`l3`の全結合層の処理を行った出力`h`を戻り値としています．"
   ]
  },
  {
   "cell_type": "code",
   "execution_count": null,
   "metadata": {
    "colab": {},
    "colab_type": "code",
    "id": "TNHnp_YczmY3"
   },
   "outputs": [],
   "source": [
    "class CNN(chainer.Chain):\n",
    "    def __init__(self):\n",
    "        super(CNN, self).__init__()\n",
    "        with self.init_scope():\n",
    "            self.conv1 = L.Convolution2D(3, 16, 3, pad=1)\n",
    "            self.bn1 = L.BatchNormalization(16)\n",
    "            self.conv2 = L.Convolution2D(16, 32, 3, pad=1)\n",
    "            self.bn2= L.BatchNormalization(32)\n",
    "            self.l1 = L.Linear(None, 1024)\n",
    "            self.l2 = L.Linear(1024, 1024)\n",
    "            self.l3 = L.Linear(1024, 10)\n",
    "\n",
    "    def __call__(self, x):\n",
    "        h = F.relu(self.bn1(self.conv1(x)))\n",
    "        h = F.max_pooling_2d(h, 2)\n",
    "        \n",
    "        h = F.relu(self.bn2(self.conv2(h)))\n",
    "        h = F.max_pooling_2d(h, 2)\n",
    "        \n",
    "        h = F.relu(self.l1(h))\n",
    "        h = F.relu(self.l2(h))\n",
    "        h = self.l3(h)\n",
    "        return h"
   ]
  },
  {
   "cell_type": "markdown",
   "metadata": {
    "colab_type": "text",
    "id": "8Dwuvfouzmd7"
   },
   "source": [
    "## ネットワークの作成\n",
    "上のプログラムで定義したネットワークを作成します．\n",
    "ここでは，GPUで学習を行うために，modelをGPUに送るto_gpu関数を利用しています．\n",
    "\n",
    "学習を行う際の最適化方法としてモーメンタムSGD(モーメンタム付き確率的勾配降下法）を利用します．また，学習率を0.05として引数に与えます．そして，最適化方法のsetup関数にネットワークモデルを与えます．\n"
   ]
  },
  {
   "cell_type": "code",
   "execution_count": null,
   "metadata": {
    "colab": {
     "base_uri": "https://localhost:8080/",
     "height": 34
    },
    "colab_type": "code",
    "executionInfo": {
     "elapsed": 589,
     "status": "ok",
     "timestamp": 1562840288195,
     "user": {
      "displayName": "Tsubasa Hirakawa",
      "photoUrl": "https://lh5.googleusercontent.com/-p6Kjr3nd0AU/AAAAAAAAAAI/AAAAAAAAJG0/tCF9JFOo7tk/s64/photo.jpg",
      "userId": "03545166870843244307"
     },
     "user_tz": -540
    },
    "id": "23m79Eq-zmjl",
    "outputId": "3973baec-fcdd-4766-e766-49da6921010f"
   },
   "outputs": [],
   "source": [
    "model = CNN()\n",
    "model.to_gpu()\n",
    "\n",
    "optimizer = chainer.optimizers.MomentumSGD(lr=0.05, momentum=0.9)\n",
    "optimizer.setup(model)"
   ]
  },
  {
   "cell_type": "markdown",
   "metadata": {
    "colab_type": "text",
    "id": "hqE6KXBe-F7J"
   },
   "source": [
    "ここでは，GPUに対応した行列演算モジュールのcupyを呼び出しており，学習およびテストデータをcupyの形式に変換します．\n",
    "cupyはnumpyと互換性があります．\n"
   ]
  },
  {
   "cell_type": "code",
   "execution_count": null,
   "metadata": {
    "colab": {},
    "colab_type": "code",
    "id": "lWQdzb2f9Ggc"
   },
   "outputs": [],
   "source": [
    "xp = cuda.cupy\n",
    "train_x = xp.array(train_x, dtype=xp.float32)\n",
    "train_y = xp.array(train_y, dtype=xp.int32)\n",
    "test_x = xp.array(test_x, dtype=xp.float32)\n",
    "test_y = xp.array(test_y, dtype=xp.int32)"
   ]
  },
  {
   "cell_type": "markdown",
   "metadata": {
    "colab_type": "text",
    "id": "MUNa9Xe79vAG"
   },
   "source": [
    "## 学習\n",
    "１回の誤差を算出するデータ数（ミニバッチサイズ）を64，学習エポック数を20とします．\n",
    "CIFAR10の学習データサイズを取得し，1エポック内における更新回数を求めます．\n",
    "学習データは毎エポックでランダムに利用するため，numpyの`permutation`という関数を利用します．\n",
    "各更新において，学習用データと教師データをそれぞれ`x`と`t`とし，`to_gpu`関数でGPUに転送します．\n",
    "学習モデルにxを与えて各クラスの確率`y`を取得します．\n",
    "各クラスの確率`y`と教師ラベル`t`との誤差を`softmax_coross_entropy`誤差関数で算出します．\n",
    "また，認識精度も算出します．\n",
    "そして，誤差を`backward`関数で逆伝播し，ネットワークの更新を行います．"
   ]
  },
  {
   "cell_type": "code",
   "execution_count": null,
   "metadata": {
    "colab": {
     "base_uri": "https://localhost:8080/",
     "height": 1000
    },
    "colab_type": "code",
    "executionInfo": {
     "elapsed": 465062,
     "status": "ok",
     "timestamp": 1562840822239,
     "user": {
      "displayName": "Tsubasa Hirakawa",
      "photoUrl": "https://lh5.googleusercontent.com/-p6Kjr3nd0AU/AAAAAAAAAAI/AAAAAAAAJG0/tCF9JFOo7tk/s64/photo.jpg",
      "userId": "03545166870843244307"
     },
     "user_tz": -540
    },
    "id": "68RE3RTa76-W",
    "outputId": "4a27a489-58d3-4d68-e076-5f50804633ac"
   },
   "outputs": [],
   "source": [
    "# ミニバッチサイズ・エポック数．学習データ数の設定\n",
    "batch_size = 64\n",
    "epoch_num = 20\n",
    "train_data_num = train_x.shape[0]\n",
    "\n",
    "# 学習の実行\n",
    "start = time()\n",
    "for epoch in range(1, epoch_num+1):\n",
    "    \n",
    "    num_iter = 0\n",
    "    sum_loss = 0\n",
    "    sum_accuracy = 0\n",
    "    \n",
    "    perm = xp.random.permutation(train_data_num)\n",
    "    \n",
    "    for i in range(0, train_data_num, batch_size):\n",
    "        \n",
    "        x = Variable(cuda.to_gpu(train_x[perm[i:i+batch_size]]))\n",
    "        t = Variable(cuda.to_gpu(train_y[perm[i:i+batch_size]]))\n",
    "\n",
    "        model.zerograds()        \n",
    "        y = model(x)\n",
    "\n",
    "        loss = F.softmax_cross_entropy(y, t)\n",
    "        acc = F.accuracy(y, t)\n",
    "        \n",
    "        loss.backward()\n",
    "        optimizer.update()\n",
    "        \n",
    "        sum_loss += loss.data\n",
    "        sum_accuracy += acc.data\n",
    "        num_iter +=1\n",
    "\n",
    "    elapsed_time = time() - start\n",
    "    print(\"epoch: {}, mean loss: {}, mean accuracy: {}, elapsed_time: {}\".format(epoch,\n",
    "                                                                                 sum_loss/num_iter,\n",
    "                                                                                 sum_accuracy/num_iter,\n",
    "                                                                                 elapsed_time))"
   ]
  },
  {
   "cell_type": "markdown",
   "metadata": {
    "colab_type": "text",
    "id": "119eIrSmzmw6"
   },
   "source": [
    "## テスト\n",
    "学習したネットワークモデルを用いて評価を行います．"
   ]
  },
  {
   "cell_type": "code",
   "execution_count": null,
   "metadata": {
    "colab": {
     "base_uri": "https://localhost:8080/",
     "height": 34
    },
    "colab_type": "code",
    "executionInfo": {
     "elapsed": 16059,
     "status": "ok",
     "timestamp": 1562814121585,
     "user": {
      "displayName": "Tsubasa Hirakawa",
      "photoUrl": "https://lh5.googleusercontent.com/-p6Kjr3nd0AU/AAAAAAAAAAI/AAAAAAAAJG0/tCF9JFOo7tk/s64/photo.jpg",
      "userId": "03545166870843244307"
     },
     "user_tz": -540
    },
    "id": "yoYVMRGLzm1I",
    "outputId": "066ff9d2-ca10-4c95-aafe-4e6ea3487d73"
   },
   "outputs": [],
   "source": [
    "cnt = 0\n",
    "test_data_num = test_x.shape[0]\n",
    "\n",
    "with chainer.using_config('train', False), chainer.using_config('enable_backprop', False):\n",
    "    for i in range(test_data_num):\n",
    "        x = Variable(cuda.to_gpu(test_x[i].reshape(1,3,32,32)))\n",
    "        t = test_y[i]\n",
    "        y = model(x)\n",
    "        y = np.argmax(y.data[0])\n",
    "        if t == y:\n",
    "            cnt += 1\n",
    "\n",
    "print(\"test accuracy: {}\".format(cnt/test_data_num))"
   ]
  },
  {
   "cell_type": "markdown",
   "metadata": {},
   "source": [
    "## 課題\n",
    "1. バッチ正規化の有無による認識性能の変化を確認しましょう\n",
    "2. ミニバッチサイズを変更した時の認識性能の変化を確認しましょう"
   ]
  },
  {
   "cell_type": "code",
   "execution_count": null,
   "metadata": {},
   "outputs": [],
   "source": []
  }
 ],
 "metadata": {
  "kernelspec": {
   "display_name": "Python 3",
   "language": "python",
   "name": "python3"
  },
  "language_info": {
   "codemirror_mode": {
    "name": "ipython",
    "version": 3
   },
   "file_extension": ".py",
   "mimetype": "text/x-python",
   "name": "python",
   "nbconvert_exporter": "python",
   "pygments_lexer": "ipython3",
   "version": "3.5.2"
  }
 },
 "nbformat": 4,
 "nbformat_minor": 4
}
