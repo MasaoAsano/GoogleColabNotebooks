{
 "cells": [
  {
   "cell_type": "markdown",
   "metadata": {
    "colab_type": "text",
    "id": "FCWsTzQXtZI7"
   },
   "source": [
    "# Chainerによるニューラルネットワーク\n",
    "\n",
    "## 本チュートリアルではchainerを利用してニューラルネットワークの実装を確認，学習および評価を行います．　環境としてはGoogle が提供する Google Colaboratory上でおこないます．"
   ]
  },
  {
   "cell_type": "markdown",
   "metadata": {
    "colab_type": "text",
    "id": "30MMRPy8tzWt"
   },
   "source": [
    "Chainerでニューラルネットワークを学習するために必要なモジュールや関数をインポートします．はじめに必要なモジュールを読み込みます．"
   ]
  },
  {
   "cell_type": "code",
   "execution_count": 1,
   "metadata": {
    "colab": {},
    "colab_type": "code",
    "id": "7qolZekhukSL"
   },
   "outputs": [],
   "source": [
    "import numpy as np\n",
    "import chainer\n",
    "from chainer import Chain, Variable\n",
    "import chainer.functions as F\n",
    "import chainer.links as L"
   ]
  },
  {
   "cell_type": "markdown",
   "metadata": {
    "colab_type": "text",
    "id": "HZMFh6Nk0AtL"
   },
   "source": [
    "chainerのバージョンを確認します．"
   ]
  },
  {
   "cell_type": "code",
   "execution_count": 5,
   "metadata": {
    "colab": {
     "base_uri": "https://localhost:8080/",
     "height": 34
    },
    "colab_type": "code",
    "executionInfo": {
     "elapsed": 1082,
     "status": "ok",
     "timestamp": 1539929214489,
     "user": {
      "displayName": "Takayoshi Yamashita",
      "photoUrl": "",
      "userId": "08008577702300060465"
     },
     "user_tz": -540
    },
    "id": "zt_lJUrEz5-S",
    "outputId": "9f22c5ff-ff4e-4980-b545-b7e5767e1f8b"
   },
   "outputs": [
    {
     "data": {
      "text/plain": [
       "'4.0.0'"
      ]
     },
     "execution_count": 5,
     "metadata": {},
     "output_type": "execute_result"
    }
   ],
   "source": [
    "chainer.__version__"
   ]
  },
  {
   "cell_type": "markdown",
   "metadata": {
    "colab_type": "text",
    "id": "5kYv__Gv8DgC"
   },
   "source": [
    "次に学習データを読み込みます．MNISTデータセットはチュートリアルでよく利用されるデータセットであり，chainerではMNISTデータセットを取得し，学習するためのフォーマットに変換してくれます．データセットには学習用とテスト用のデータに分かれており，それぞれtrain_dataset, test_datasetとします．また，それらには画像データと教師ラベルがあり，それらをtrain_xとtrain_y，test_xとtest_yとします．"
   ]
  },
  {
   "cell_type": "code",
   "execution_count": 6,
   "metadata": {
    "colab": {
     "base_uri": "https://localhost:8080/",
     "height": 85
    },
    "colab_type": "code",
    "executionInfo": {
     "elapsed": 68119,
     "status": "ok",
     "timestamp": 1539929373942,
     "user": {
      "displayName": "Takayoshi Yamashita",
      "photoUrl": "",
      "userId": "08008577702300060465"
     },
     "user_tz": -540
    },
    "id": "nCv8tqrY76Ug",
    "outputId": "1e9078e1-1140-4416-bdf7-9e6a6c248ed2"
   },
   "outputs": [
    {
     "name": "stderr",
     "output_type": "stream",
     "text": [
      "Downloading from http://yann.lecun.com/exdb/mnist/train-images-idx3-ubyte.gz...\n",
      "Downloading from http://yann.lecun.com/exdb/mnist/train-labels-idx1-ubyte.gz...\n",
      "Downloading from http://yann.lecun.com/exdb/mnist/t10k-images-idx3-ubyte.gz...\n",
      "Downloading from http://yann.lecun.com/exdb/mnist/t10k-labels-idx1-ubyte.gz...\n"
     ]
    }
   ],
   "source": [
    "train_dataset, test_dataset = chainer.datasets.get_mnist()\n",
    "train_x,train_y = train_dataset._datasets\n",
    "test_x, test_y = test_dataset._datasets"
   ]
  },
  {
   "cell_type": "markdown",
   "metadata": {
    "colab_type": "text",
    "id": "2efIxj2UB4EM"
   },
   "source": [
    "学習データのサイズを確認します．学習データ数は6万枚，１つのデータのサイズは784次元となっています．\n",
    "また，評価データ数は1万枚となっています．"
   ]
  },
  {
   "cell_type": "code",
   "execution_count": 7,
   "metadata": {
    "colab": {
     "base_uri": "https://localhost:8080/",
     "height": 34
    },
    "colab_type": "code",
    "executionInfo": {
     "elapsed": 1235,
     "status": "ok",
     "timestamp": 1539929389171,
     "user": {
      "displayName": "Takayoshi Yamashita",
      "photoUrl": "",
      "userId": "08008577702300060465"
     },
     "user_tz": -540
    },
    "id": "-YTEPjI18Eb_",
    "outputId": "a88e91dd-04ff-4413-ee48-965022e35ed7"
   },
   "outputs": [
    {
     "name": "stdout",
     "output_type": "stream",
     "text": [
      "(60000, 784) (60000,)\n",
      "(10000, 784) (10000,)\n"
     ]
    }
   ],
   "source": [
    "print(train_x.shape, train_y.shape)\n",
    "print(test_x.shape, test_y.shape)"
   ]
  },
  {
   "cell_type": "markdown",
   "metadata": {
    "colab_type": "text",
    "id": "DbtGxSpZ2Iv_"
   },
   "source": [
    "MNISTデータセットに含まれる画像を表示してみます．ここでは，matplotlibで複数の画像を表示させるプログラムを利用します．"
   ]
  },
  {
   "cell_type": "code",
   "execution_count": 9,
   "metadata": {
    "colab": {
     "base_uri": "https://localhost:8080/",
     "height": 69
    },
    "colab_type": "code",
    "executionInfo": {
     "elapsed": 1875,
     "status": "ok",
     "timestamp": 1539929427619,
     "user": {
      "displayName": "Takayoshi Yamashita",
      "photoUrl": "",
      "userId": "08008577702300060465"
     },
     "user_tz": -540
    },
    "id": "I9AilV_LxHBV",
    "outputId": "2b29be12-990b-4c1c-c3e8-235a9806c63f"
   },
   "outputs": [
    {
     "data": {
      "image/png": "[encoded data removed]",
      "text/plain": [
       "<Figure size 432x288 with 10 Axes>"
      ]
     },
     "metadata": {},
     "output_type": "display_data"
    }
   ],
   "source": [
    "import cv2\n",
    "import matplotlib.pyplot as plt\n",
    "import os.path\n",
    "\n",
    "cols = 10\n",
    "\n",
    "def clearLabel(_ax):\n",
    "    _ax.tick_params(labelbottom=False, bottom=False)\n",
    "    _ax.tick_params(labelleft=False, left=False)\n",
    "    _ax.set_xticklabels([]) \n",
    "    _ax.axis('off')\n",
    "    return _ax\n",
    "\n",
    "def readImage(idx):\n",
    "    bimg = train_x[idx].copy()\n",
    "    label = train_y[idx]\n",
    "    bimg = bimg.reshape(28,28)\n",
    "    return bimg\n",
    "\n",
    "fig = plt.figure()\n",
    "\n",
    "for c in range(cols):\n",
    "    ax1 = fig.add_subplot(1, cols, c+1)\n",
    "    clearLabel(ax1)\n",
    "    show_img1 = readImage(c)\n",
    "    plt.gray()\n",
    "    plt.imshow(show_img1)"
   ]
  },
  {
   "cell_type": "markdown",
   "metadata": {
    "colab_type": "text",
    "id": "o05arGVVu8Uq"
   },
   "source": [
    "ニューラルネットワークを定義します．ここでは，入力層，中間層，出力層から構成される３層のニューラルネットワークとします．入力層のユニット数は入力データのサイズによります．ここではNoneとし，データにより変更できるようにしておきます．中間層と出力層のユニット数は引数として与え，それぞれn_units，n_outとします． Chainerでは，\\__init\\__関数にこれらの引数を与えて各層を定義します．各層はlinear関数としています．これは全結合層を意味しています．そして，\\__call\\__関数で定義した層を接続して処理するように記述します．\\__call\\__関数の引数xは入力データです．それを\\__init\\__関数で定義したl1という中間層に与え，その出力を活性化関数であるrelu関数に与えます．その出力をh1としています．h1は出力層h2に与えられ，その出力をh2としています．"
   ]
  },
  {
   "cell_type": "code",
   "execution_count": 10,
   "metadata": {
    "colab": {},
    "colab_type": "code",
    "id": "g4hAwTlKuzVT"
   },
   "outputs": [],
   "source": [
    "class NN(chainer.Chain):\n",
    "    def __init__(self, n_units, n_out):\n",
    "        super().__init__(\n",
    "            l1=L.Linear(None, n_units),\n",
    "            l2=L.Linear(n_units, n_out),\n",
    "        )\n",
    "\n",
    "    def __call__(self, x):\n",
    "        h1 = F.relu(self.l1(x))\n",
    "        return self.l2(h1)"
   ]
  },
  {
   "cell_type": "markdown",
   "metadata": {
    "colab_type": "text",
    "id": "B5pf-b73773n"
   },
   "source": [
    "中間層と出力層のユニット数を定義します．ここでは中間層のユニット数を50，出力層のユニット数を10とします．"
   ]
  },
  {
   "cell_type": "code",
   "execution_count": 11,
   "metadata": {
    "colab": {},
    "colab_type": "code",
    "id": "kFGiW2Sy77a_"
   },
   "outputs": [],
   "source": [
    "n_units = 50\n",
    "out_units = 10"
   ]
  },
  {
   "cell_type": "markdown",
   "metadata": {
    "colab_type": "text",
    "id": "-hYTV75a79OS"
   },
   "source": [
    "各層のユニット数をNN関数の引数として与え，ネットワークモデルを定義します．学習を行う際の最適化方法としてモーメンタムSGD(モーメンタム付き確率的勾配降下法）を利用します．また，学習率を0.01，モーメンタムを0.9として引数に与えます．そして，最適化方法のsetup関数にネットワークモデルを与えます．"
   ]
  },
  {
   "cell_type": "code",
   "execution_count": 12,
   "metadata": {
    "colab": {
     "base_uri": "https://localhost:8080/",
     "height": 34
    },
    "colab_type": "code",
    "executionInfo": {
     "elapsed": 1582,
     "status": "ok",
     "timestamp": 1539929761980,
     "user": {
      "displayName": "Takayoshi Yamashita",
      "photoUrl": "",
      "userId": "08008577702300060465"
     },
     "user_tz": -540
    },
    "id": "-rdmJMVY75vq",
    "outputId": "f505e3fc-2041-430f-8b69-be6bb589c02d"
   },
   "outputs": [
    {
     "data": {
      "text/plain": [
       "<chainer.optimizers.momentum_sgd.MomentumSGD at 0x11665ab38>"
      ]
     },
     "execution_count": 12,
     "metadata": {},
     "output_type": "execute_result"
    }
   ],
   "source": [
    "model = NN(n_units, out_units)\n",
    "optimizer = chainer.optimizers.MomentumSGD(lr=0.01, momentum=0.9)\n",
    "optimizer.setup(model)"
   ]
  },
  {
   "cell_type": "markdown",
   "metadata": {
    "colab_type": "text",
    "id": "MUNa9Xe79vAG"
   },
   "source": [
    "１回の誤差を算出するデータ数（ミニバッチサイズ）を100，学習エポック数を100とします．"
   ]
  },
  {
   "cell_type": "code",
   "execution_count": 13,
   "metadata": {
    "colab": {},
    "colab_type": "code",
    "id": "iRdLBp8y3sho"
   },
   "outputs": [],
   "source": [
    "batch_size = 100\n",
    "epoch_num = 10"
   ]
  },
  {
   "cell_type": "markdown",
   "metadata": {
    "colab_type": "text",
    "id": "-MqviyB23uf3"
   },
   "source": [
    "MNISTの学習データサイズを取得し，１エポック内における更新回数を求めます．学習データは毎エポックでランダムに利用するため，numpyのpermutationという関数を利用します．各更新において，学習用データと教師データをそれぞれxとtとします．学習モデルにxを与えて各クラスの確率yを取得します．各クラスの確率yと教師ラベルtとの誤差をsoftmax coross entropy誤差関数で算出します．また，認識精度も算出します．そして，誤差をbackward関数で逆伝播し，ネットワークの更新を行います．"
   ]
  },
  {
   "cell_type": "code",
   "execution_count": 14,
   "metadata": {
    "colab": {
     "base_uri": "https://localhost:8080/",
     "height": 187
    },
    "colab_type": "code",
    "executionInfo": {
     "elapsed": 24817,
     "status": "ok",
     "timestamp": 1539929961222,
     "user": {
      "displayName": "Takayoshi Yamashita",
      "photoUrl": "",
      "userId": "08008577702300060465"
     },
     "user_tz": -540
    },
    "id": "68RE3RTa76-W",
    "outputId": "10b198a3-94a9-47e5-b311-a92a2a9dd5d6"
   },
   "outputs": [
    {
     "name": "stdout",
     "output_type": "stream",
     "text": [
      "epoch: 1, mean loss: 0.5017839224636554, mean accuracy: 0.8627000015228987\n",
      "epoch: 2, mean loss: 0.2657307610909144, mean accuracy: 0.9240500022967656\n",
      "epoch: 3, mean loss: 0.2194716155032317, mean accuracy: 0.9376000014940897\n",
      "epoch: 4, mean loss: 0.18811602457736928, mean accuracy: 0.9455333347121875\n",
      "epoch: 5, mean loss: 0.1639216464323302, mean accuracy: 0.9525333362817764\n",
      "epoch: 6, mean loss: 0.1446256748214364, mean accuracy: 0.9580166694521904\n",
      "epoch: 7, mean loss: 0.13079053243311742, mean accuracy: 0.961750005185604\n",
      "epoch: 8, mean loss: 0.11847388257272541, mean accuracy: 0.9659166712562243\n",
      "epoch: 9, mean loss: 0.10995933233139416, mean accuracy: 0.9687500067551931\n",
      "epoch: 10, mean loss: 0.10150001933487753, mean accuracy: 0.9707666754722595\n"
     ]
    }
   ],
   "source": [
    "train_data_num = train_x.shape[0]\n",
    "iter_one_epoch = int(train_x.shape[0]/batch_size)\n",
    "for epoch in range(epoch_num):\n",
    "        sum_loss = 0\n",
    "        sum_accuracy = 0\n",
    "        perm = np.random.permutation(train_data_num)\n",
    "        for i in range(0, train_data_num, batch_size):\n",
    "                x = Variable(train_x[perm[i:i+batch_size]])\n",
    "                t = Variable(train_y[perm[i:i+batch_size]])\n",
    "                y = model(x)        \n",
    "                model.zerograds()\n",
    "                loss = F.softmax_cross_entropy(y, t)\n",
    "                acc = F.accuracy(y, t)\n",
    "                loss.backward()\n",
    "                optimizer.update()\n",
    "                sum_loss += loss.data*batch_size\n",
    "                sum_accuracy += acc.data*batch_size\n",
    "        print(\"epoch: {}, mean loss: {}, mean accuracy: {}\".format(epoch+1,\n",
    "                                                                   sum_loss/train_data_num,\n",
    "                                                                   sum_accuracy/train_data_num))"
   ]
  },
  {
   "cell_type": "markdown",
   "metadata": {
    "colab_type": "text",
    "id": "b6OZY7GgDBPl"
   },
   "source": [
    "学習できたネットワークモデルを利用して評価を行います．"
   ]
  },
  {
   "cell_type": "code",
   "execution_count": 15,
   "metadata": {
    "colab": {
     "base_uri": "https://localhost:8080/",
     "height": 34
    },
    "colab_type": "code",
    "executionInfo": {
     "elapsed": 4395,
     "status": "ok",
     "timestamp": 1539930023553,
     "user": {
      "displayName": "Takayoshi Yamashita",
      "photoUrl": "",
      "userId": "08008577702300060465"
     },
     "user_tz": -540
    },
    "id": "03_8Wh5V9F6V",
    "outputId": "16e6901b-c734-4555-e088-c0ff059cb3bc"
   },
   "outputs": [
    {
     "name": "stdout",
     "output_type": "stream",
     "text": [
      "test accuracy: 0.9648\n"
     ]
    }
   ],
   "source": [
    "cnt = 0\n",
    "test_data_num = test_x.shape[0]\n",
    "for i in range(test_data_num):\n",
    "    x = Variable(np.array([test_x[i]], dtype=np.float32))\n",
    "    t = test_y[i]\n",
    "    y = model(x)\n",
    "    y = np.argmax(y.data[0])\n",
    "    if t == y:\n",
    "        cnt += 1\n",
    " \n",
    "print(\"test accuracy: {}\".format(cnt/test_data_num))"
   ]
  },
  {
   "cell_type": "markdown",
   "metadata": {
    "colab_type": "text",
    "id": "cxO7tnfWDHMJ"
   },
   "source": [
    "## 課題　\n",
    "### 以下の課題に取り組みましょう"
   ]
  },
  {
   "cell_type": "markdown",
   "metadata": {
    "colab_type": "text",
    "id": "knno-MVZ4Oye"
   },
   "source": [
    "1  ネットワーク構造を変えて実験しましょう． \n",
    "\n",
    "   まず，中間層のユニット数を200個にしましょう．\n",
    "   \n",
    "   次に，中間層を1層増やしましょう．その際， 中間層のユニット数は200個としましょう．"
   ]
  },
  {
   "cell_type": "markdown",
   "metadata": {
    "colab_type": "text",
    "id": "5oYzfKGU4Idy"
   },
   "source": [
    "2  最適化の方法をAdamに変えて実験しましょう．\n"
   ]
  },
  {
   "cell_type": "markdown",
   "metadata": {
    "colab_type": "text",
    "id": "yyGUUy9p4Nwi"
   },
   "source": [
    "3  エポック数やミニバッチサイズを変えて実験しましょう．\n",
    "\n",
    "  まず，ミニバッチサイズを128にしましょう．\n",
    "  \n",
    "  次に，エポック数を50にしましょう．"
   ]
  },
  {
   "cell_type": "markdown",
   "metadata": {
    "colab_type": "text",
    "id": "C65RJO4L5LCX"
   },
   "source": [
    "##別のコードの書き方\n",
    "\n",
    "ここまでのコードは学習の流れをわかりやすくするために，エポックまたはミニバッチ毎にfor文で学習を行うようにプログラムを作成しました． chainerでは，trainerとupdaterという繰り返し処理を抽象化するクラスが用意されています．これらを利用した場合は，以下のように書くことができます．\n",
    "\n",
    "SerialIteratorにより学習および評価データを繰り返し取得することができます．　StarndardUpdaterは， SerialIteratorによって繰り返し取得したデータをoptimizerに渡してmodelをアップデートします． TrainerはこのUpdaterの処理を指定されたエポック回数分行い，学習したモデルをresultに保存できます． Trainerにはさまざなま拡張機能を追加できます．Evaluatorは学習したモデルを評価する機能であり，LogReportは学習時のロスは精度を記憶します．これらの記憶されているログをPlotReportが表示したりグラフとして保存したりします．　学習の実行はtrainerクラスのrun関数により行います．"
   ]
  },
  {
   "cell_type": "code",
   "execution_count": 16,
   "metadata": {
    "colab": {
     "base_uri": "https://localhost:8080/",
     "height": 204
    },
    "colab_type": "code",
    "executionInfo": {
     "elapsed": 32895,
     "status": "ok",
     "timestamp": 1539930261147,
     "user": {
      "displayName": "Takayoshi Yamashita",
      "photoUrl": "",
      "userId": "08008577702300060465"
     },
     "user_tz": -540
    },
    "id": "WqmSOUHw51Jk",
    "outputId": "6114d3ed-c48e-4455-92e9-77a18f3d6de9"
   },
   "outputs": [
    {
     "name": "stdout",
     "output_type": "stream",
     "text": [
      "epoch       main/loss   validation/main/loss  main/accuracy  validation/main/accuracy  elapsed_time\n",
      "\u001b[J1           0.490219    0.28501               0.864033       0.9183                    1.42788       \n",
      "\u001b[J2           0.26413     0.230675              0.924933       0.9331                    3.06158       \n",
      "\u001b[J3           0.21617     0.194826              0.9387         0.9445                    4.94469       \n",
      "\u001b[J4           0.183922    0.172867              0.947717       0.9503                    6.59209       \n",
      "\u001b[J5           0.160142    0.156028              0.954383       0.9538                    8.24041       \n",
      "\u001b[J6           0.14234     0.137193              0.959233       0.9593                    9.89375       \n",
      "\u001b[J7           0.127924    0.129197              0.963833       0.961                     11.6463       \n",
      "\u001b[J8           0.116833    0.121214              0.96725        0.9638                    13.3653       \n",
      "\u001b[J9           0.107601    0.1226                0.97025        0.9646                    15.1308       \n",
      "\u001b[J10          0.100413    0.109963              0.971583       0.9682                    16.8242       \n"
     ]
    }
   ],
   "source": [
    "from chainer import training\n",
    "from chainer.training import extensions\n",
    "\n",
    "batch_size = 100\n",
    "epoch_num = 10\n",
    "\n",
    "n_units = 50\n",
    "out_units = 10\n",
    "\n",
    "model = L.Classifier(NN(n_units, out_units))\n",
    "optimizer = chainer.optimizers.MomentumSGD(lr=0.01, momentum=0.9)\n",
    "optimizer.setup(model)  \n",
    "  \n",
    "train_dataset, test_dataset = chainer.datasets.get_mnist()\n",
    "\n",
    "train_iter = chainer.iterators.SerialIterator(train_dataset, batch_size)\n",
    "test_iter = chainer.iterators.SerialIterator(test_dataset, batch_size, repeat=False, shuffle=False)\n",
    "\n",
    "updater = training.updaters.StandardUpdater(train_iter, optimizer, device=-1)\n",
    "trainer = training.Trainer(updater, (epoch_num, 'epoch'), out='result')\n",
    "\n",
    "trainer.extend(extensions.Evaluator(test_iter, model, device=-1))\n",
    "\n",
    "trainer.extend(extensions.dump_graph('main/loss'))\n",
    "\n",
    "trainer.extend(extensions.LogReport())\n",
    "\n",
    "trainer.extend(extensions.PlotReport(['main/loss', 'validation/main/loss'],\n",
    "                                     'epoch', file_name='loss.png'))\n",
    "trainer.extend(extensions.PlotReport(['main/accuracy','validation/main/accuracy'],\n",
    "                                     'epoch', file_name='accuracy.png'))\n",
    "trainer.extend(extensions.PrintReport(['epoch',\n",
    "                                       'main/loss',\n",
    "                                       'validation/main/loss',\n",
    "                                       'main/accuracy',\n",
    "                                       'validation/main/accuracy',\n",
    "                                       'elapsed_time']))\n",
    "\n",
    "trainer.run()"
   ]
  }
 ],
 "metadata": {
  "accelerator": "GPU",
  "colab": {
   "collapsed_sections": [],
   "name": "01_NeuralNetwork_chainer.ipynb",
   "provenance": [],
   "version": "0.3.2"
  },
  "kernelspec": {
   "display_name": "Python 3",
   "language": "python",
   "name": "python3"
  },
  "language_info": {
   "codemirror_mode": {
    "name": "ipython",
    "version": 3
   },
   "file_extension": ".py",
   "mimetype": "text/x-python",
   "name": "python",
   "nbconvert_exporter": "python",
   "pygments_lexer": "ipython3",
   "version": "3.7.3"
  }
 },
 "nbformat": 4,
 "nbformat_minor": 2
}
