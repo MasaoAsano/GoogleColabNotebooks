{
 "cells": [
  {
   "cell_type": "markdown",
   "metadata": {
    "colab_type": "text",
    "id": "FCWsTzQXtZI7"
   },
   "source": [
    "# Chainerによる畳み込みニューラルネットワーク\n",
    "\n",
    "## 本チュートリアルではchainerを利用してニューラルネットワークの実装を確認，学習および評価を行います．　環境としてはGoogle が提供する Google Colaboratory上でおこないます． GPU上で処理を行うため，colaboratoryの[ランタイム]->[ランタイムのタイプを変更]からハードウェアアクセラレータをGPUにしてください．"
   ]
  },
  {
   "cell_type": "markdown",
   "metadata": {
    "colab_type": "text",
    "id": "4Esf4xv7uoEr"
   },
   "source": [
    "Chainerでニューラルネットワークを学習するために必要なモジュールや関数をインポートします．"
   ]
  },
  {
   "cell_type": "code",
   "execution_count": 1,
   "metadata": {
    "colab": {},
    "colab_type": "code",
    "id": "7qolZekhukSL"
   },
   "outputs": [],
   "source": [
    "import numpy as np\n",
    "import chainer\n",
    "from chainer import cuda, optimizers\n",
    "from chainer import Chain, Variable\n",
    "import chainer.functions as F\n",
    "import chainer.links as L"
   ]
  },
  {
   "cell_type": "markdown",
   "metadata": {
    "colab_type": "text",
    "id": "ORwBLLmjwhF0"
   },
   "source": [
    "今回はGPUを利用します．GPUが利用できるか確認します．"
   ]
  },
  {
   "cell_type": "code",
   "execution_count": 2,
   "metadata": {
    "colab": {
     "base_uri": "https://localhost:8080/",
     "height": 51
    },
    "colab_type": "code",
    "executionInfo": {
     "elapsed": 1676,
     "status": "ok",
     "timestamp": 1539930520685,
     "user": {
      "displayName": "Takayoshi Yamashita",
      "photoUrl": "",
      "userId": "08008577702300060465"
     },
     "user_tz": -540
    },
    "id": "3ItMpSpnwmHU",
    "outputId": "180be4f2-841b-4418-9855-d6dfd3e68784"
   },
   "outputs": [
    {
     "name": "stdout",
     "output_type": "stream",
     "text": [
      "GPU availability: False\n",
      "cuDNN availablility: False\n"
     ]
    }
   ],
   "source": [
    "print('GPU availability:', chainer.cuda.available)\n",
    "print('cuDNN availablility:', chainer.cuda.cudnn_enabled)"
   ]
  },
  {
   "cell_type": "markdown",
   "metadata": {
    "colab_type": "text",
    "id": "5kYv__Gv8DgC"
   },
   "source": [
    "次に学習データを読み込みます．MNISTデータセットはチュートリアルでよく利用されるデータセットであり，chainerではMNISTデータセットを取得し，学習するためのフォーマットに変換してくれます．データセットには学習用とテスト用のデータに別れており，それぞれtrain_dataset, test_datasetとします．また，それらには画像データと教師ラベルがあり，それらをtrain_xとtrain_y，test_xとtest_yとします．"
   ]
  },
  {
   "cell_type": "code",
   "execution_count": 3,
   "metadata": {
    "colab": {},
    "colab_type": "code",
    "id": "nCv8tqrY76Ug"
   },
   "outputs": [],
   "source": [
    "train_dataset, test_dataset = chainer.datasets.get_mnist(ndim=3)\n",
    "train_x, train_y = train_dataset._datasets\n",
    "test_x, test_y = test_dataset._datasets"
   ]
  },
  {
   "cell_type": "markdown",
   "metadata": {
    "colab_type": "text",
    "id": "2efIxj2UB4EM"
   },
   "source": [
    "学習データのサイズを確認します．学習データサイズは6万枚，１つのデータのサイズは1x28x28の画像のような形式となっています．"
   ]
  },
  {
   "cell_type": "code",
   "execution_count": 4,
   "metadata": {
    "colab": {
     "base_uri": "https://localhost:8080/",
     "height": 34
    },
    "colab_type": "code",
    "executionInfo": {
     "elapsed": 1196,
     "status": "ok",
     "timestamp": 1539930535446,
     "user": {
      "displayName": "Takayoshi Yamashita",
      "photoUrl": "",
      "userId": "08008577702300060465"
     },
     "user_tz": -540
    },
    "id": "-YTEPjI18Eb_",
    "outputId": "7d244214-19d4-48ba-d546-a3036eeb71d7"
   },
   "outputs": [
    {
     "name": "stdout",
     "output_type": "stream",
     "text": [
      "(60000, 1, 28, 28) (60000,)\n"
     ]
    }
   ],
   "source": [
    "print(train_x.shape, train_y.shape)"
   ]
  },
  {
   "cell_type": "markdown",
   "metadata": {
    "colab_type": "text",
    "id": "DbtGxSpZ2Iv_"
   },
   "source": [
    "MNISTデータセットに含まれる画像を表示してみます．ここでは，matplotlibで複数の画像を表示させるプログラムを利用します．"
   ]
  },
  {
   "cell_type": "code",
   "execution_count": 6,
   "metadata": {
    "colab": {
     "base_uri": "https://localhost:8080/",
     "height": 69
    },
    "colab_type": "code",
    "executionInfo": {
     "elapsed": 1583,
     "status": "ok",
     "timestamp": 1539930567305,
     "user": {
      "displayName": "Takayoshi Yamashita",
      "photoUrl": "",
      "userId": "08008577702300060465"
     },
     "user_tz": -540
    },
    "id": "I9AilV_LxHBV",
    "outputId": "d84e4eb7-fe4a-45e9-cf2d-1a8d5fb19254"
   },
   "outputs": [
    {
     "data": {
      "image/png": "[encoded data removed]",
      "text/plain": [
       "<Figure size 432x288 with 10 Axes>"
      ]
     },
     "metadata": {},
     "output_type": "display_data"
    }
   ],
   "source": [
    "import cv2\n",
    "import matplotlib.pyplot as plt\n",
    "import os.path\n",
    "\n",
    "cols =10\n",
    "\n",
    "def clearLabel(_ax):\n",
    "    _ax.tick_params(labelbottom=False, bottom=False)\n",
    "    _ax.tick_params(labelleft=False, left=False)\n",
    "    _ax.set_xticklabels([]) \n",
    "    _ax.axis('off')\n",
    "    return _ax\n",
    "\n",
    "def readImage(idx):\n",
    "    bimg = train_x[idx].copy()\n",
    "    label = train_y[idx]\n",
    "    bimg = bimg.reshape(28,28)\n",
    "    return bimg\n",
    "\n",
    "fig = plt.figure()\n",
    "\n",
    "for c in range(cols):\n",
    "    ax1 = fig.add_subplot(1, cols, c+1)\n",
    "    clearLabel(ax1)\n",
    "    show_img1 = readImage(c)\n",
    "    plt.gray()\n",
    "    plt.imshow(show_img1)"
   ]
  },
  {
   "cell_type": "markdown",
   "metadata": {
    "colab_type": "text",
    "id": "o05arGVVu8Uq"
   },
   "source": [
    "畳み込みニューラルネットワークを定義します．ここでは，畳み込み層２層，全結合層３層から構成されるネットワークとします．１層目の畳み込み層は入力チャンネル数が１，出力する特徴マップ数が16，畳み込むフィルタサイズが3x3です．２層目の畳み込み層は入力チャネル数が16．出力する特徴マップ数が32，畳み込むフィルタサイズは同じく3x3です．１つ目の全結合層は入力ユニット数は不定とし，出力は1024としています．次の全結合層入力，出力共に1024，出力層は入力が1024，出力が10です．これらの各層の構成を\\__init|\\__関数で定義します．\n",
    "次に，\\__call\\__関数では，定義した層を接続して処理するように記述します．\\__call\\__関数の引数xは入力データです．それを\\__init\\__関数で定義したconv1に与え，その出力を活性化関数であるrelu関数に与えます．そして，その出力をmax_pooling_2dに与えて，プーリング処理結果をhとして出力します．hはconv2に与えられて畳み込み処理とプーリング処理を行います．そして，出力hをl1に与えて全結合層の処理を行います．最終的にl3の全結合層の処理を行った出力hを戻り値としています．\n"
   ]
  },
  {
   "cell_type": "code",
   "execution_count": 7,
   "metadata": {
    "colab": {},
    "colab_type": "code",
    "id": "g4hAwTlKuzVT"
   },
   "outputs": [],
   "source": [
    "class CNN(Chain):\n",
    "    def __init__(self):\n",
    "        super(CNN, self).__init__(\n",
    "            conv1 = L.Convolution2D(1, 16, 3), \n",
    "            conv2 = L.Convolution2D(16, 32, 3), \n",
    "            l1 = L.Linear(None, 1024),\n",
    "            l2 = L.Linear(1024, 1024),\n",
    "            l3 = L.Linear(1024, 10)\n",
    "        )\n",
    "    def __call__(self, x):\n",
    "        h = F.max_pooling_2d(F.relu(self.conv1(x)), 2)\n",
    "        h = F.max_pooling_2d(F.relu(self.conv2(h)), 2)\n",
    "        h = F.relu(self.l1(h))\n",
    "        h = F.relu(self.l2(h))\n",
    "        h = self.l3(h)\n",
    "        return h"
   ]
  },
  {
   "cell_type": "markdown",
   "metadata": {
    "colab_type": "text",
    "id": "-hYTV75a79OS"
   },
   "source": [
    "畳み込みネットワークモデルを定義します．学習を行う際の最適化方法としてモーメンタムSGD(モーメンタム付き確率的勾配降下法）を利用します．また，学習率を0.01，モーメンタムを0.9として引数に与えます．そして，最適化方法のsetup関数にネットワークモデルを与えます．ここでは，GPUで学習を行うために，modelをGPUに送るto_gpu関数を利用しています．また，GPUに対応した行列演算モジュールのcupyを呼び出しています．"
   ]
  },
  {
   "cell_type": "code",
   "execution_count": 8,
   "metadata": {
    "colab": {
     "base_uri": "https://localhost:8080/",
     "height": 34
    },
    "colab_type": "code",
    "executionInfo": {
     "elapsed": 9911,
     "status": "ok",
     "timestamp": 1539930610438,
     "user": {
      "displayName": "Takayoshi Yamashita",
      "photoUrl": "",
      "userId": "08008577702300060465"
     },
     "user_tz": -540
    },
    "id": "-rdmJMVY75vq",
    "outputId": "263e2f50-232a-4b70-fb86-cab69ee924d5"
   },
   "outputs": [
    {
     "data": {
      "text/plain": [
       "<chainer.optimizers.momentum_sgd.MomentumSGD at 0x7ff7a332b9b0>"
      ]
     },
     "execution_count": 8,
     "metadata": {
      "tags": []
     },
     "output_type": "execute_result"
    }
   ],
   "source": [
    "gpu_id = 0 \n",
    "xp = cuda.cupy\n",
    "model = CNN()\n",
    "model.to_gpu(gpu_id)\n",
    "\n",
    "optimizer = chainer.optimizers.MomentumSGD(lr=0.01, momentum=0.9)\n",
    "optimizer.setup(model)"
   ]
  },
  {
   "cell_type": "markdown",
   "metadata": {
    "colab_type": "text",
    "id": "hqE6KXBe-F7J"
   },
   "source": [
    "学習およびテストデータをcupyの形式に変換します．cupyはnumpyと互換性があります．"
   ]
  },
  {
   "cell_type": "code",
   "execution_count": null,
   "metadata": {
    "colab": {},
    "colab_type": "code",
    "id": "lWQdzb2f9Ggc"
   },
   "outputs": [],
   "source": [
    "train_x = xp.array(train_x, dtype=xp.float32)\n",
    "train_y = xp.array(train_y, dtype = xp.int32)\n",
    "test_x = xp.array(test_x, dtype=xp.float32)\n",
    "test_y = xp.array(test_y, dtype = xp.int32)"
   ]
  },
  {
   "cell_type": "markdown",
   "metadata": {
    "colab_type": "text",
    "id": "MUNa9Xe79vAG"
   },
   "source": [
    "１回の誤差を算出するデータ数（ミニバッチサイズ）を100，学習エポック数を100とします．MNISTの学習データサイズを取得し，１エポック内における更新回数を求めます．学習データは毎エポックでランダムに利用するため，numpyのpermutationという関数を利用します．各更新において，学習用データと教師データをそれぞれxとtとし，to_gpu関数でGPUに転送します．学習モデルにxを与えて各クラスの確率yを取得します．各クラスの確率yと教師ラベルtとの誤差をsoftmax coross entropy誤差関数で算出します．また，認識精度も算出します．そして，誤差をbackward関数で逆伝播し，ネットワークの更新を行います．"
   ]
  },
  {
   "cell_type": "code",
   "execution_count": 10,
   "metadata": {
    "colab": {
     "base_uri": "https://localhost:8080/",
     "height": 187
    },
    "colab_type": "code",
    "executionInfo": {
     "elapsed": 71246,
     "status": "ok",
     "timestamp": 1539930705492,
     "user": {
      "displayName": "Takayoshi Yamashita",
      "photoUrl": "",
      "userId": "08008577702300060465"
     },
     "user_tz": -540
    },
    "id": "68RE3RTa76-W",
    "outputId": "ad87505d-017a-4649-9062-10febc5d43d0"
   },
   "outputs": [
    {
     "name": "stdout",
     "output_type": "stream",
     "text": [
      "epoch: 1, mean loss: 0.23071776, mean accuracy: 0.9285333\n",
      "epoch: 2, mean loss: 0.066432394, mean accuracy: 0.9791667\n",
      "epoch: 3, mean loss: 0.04470107, mean accuracy: 0.9859667\n",
      "epoch: 4, mean loss: 0.034174807, mean accuracy: 0.9892667\n",
      "epoch: 5, mean loss: 0.025850417, mean accuracy: 0.9917833\n",
      "epoch: 6, mean loss: 0.019931931, mean accuracy: 0.9935833\n",
      "epoch: 7, mean loss: 0.015775127, mean accuracy: 0.9950167\n",
      "epoch: 8, mean loss: 0.01342642, mean accuracy: 0.9957167\n",
      "epoch: 9, mean loss: 0.00969821, mean accuracy: 0.9971333\n",
      "epoch: 10, mean loss: 0.0072579943, mean accuracy: 0.99791664\n"
     ]
    }
   ],
   "source": [
    "batch_size = 100\n",
    "epoch_num = 10\n",
    "train_data_num = train_x.shape[0]\n",
    "iter_one_epoch = int(train_x.shape[0]/batch_size)\n",
    "for epoch in range(epoch_num):\n",
    "    sum_loss = 0\n",
    "    sum_accuracy = 0\n",
    "    perm = xp.random.permutation(train_data_num)\n",
    "    for i in range(0, train_data_num, batch_size):\n",
    "        x = Variable(cuda.to_gpu(train_x[perm[i:i+batch_size]]))\n",
    "        t = Variable(cuda.to_gpu(train_y[perm[i:i+batch_size]]))\n",
    "        y = model(x)        \n",
    "        model.zerograds()\n",
    "        loss = F.softmax_cross_entropy(y, t)\n",
    "        acc = F.accuracy(y, t)\n",
    "        loss.backward()\n",
    "        optimizer.update()\n",
    "        sum_loss += loss.data*batch_size\n",
    "        sum_accuracy += acc.data*batch_size\n",
    "    print(\"epoch: {}, mean loss: {}, mean accuracy: {}\".format(epoch+1,\n",
    "                                                               sum_loss/train_data_num,\n",
    "                                                               sum_accuracy/train_data_num))"
   ]
  },
  {
   "cell_type": "markdown",
   "metadata": {
    "colab_type": "text",
    "id": "b6OZY7GgDBPl"
   },
   "source": [
    "学習できたネットワークモデルを利用して評価を行います．"
   ]
  },
  {
   "cell_type": "code",
   "execution_count": 11,
   "metadata": {
    "colab": {
     "base_uri": "https://localhost:8080/",
     "height": 34
    },
    "colab_type": "code",
    "executionInfo": {
     "elapsed": 25432,
     "status": "ok",
     "timestamp": 1539930734497,
     "user": {
      "displayName": "Takayoshi Yamashita",
      "photoUrl": "",
      "userId": "08008577702300060465"
     },
     "user_tz": -540
    },
    "id": "03_8Wh5V9F6V",
    "outputId": "3736c1c7-6097-4b94-fcf4-77dc4914493d"
   },
   "outputs": [
    {
     "name": "stdout",
     "output_type": "stream",
     "text": [
      "test accuracy: 0.9923\n"
     ]
    }
   ],
   "source": [
    "cnt = 0\n",
    "test_data_num = test_x.shape[0]\n",
    "for i in range(test_data_num):\n",
    "    x = Variable(cuda.to_gpu(test_x[i].reshape(1,1,28,28)))\n",
    "    t = test_y[i]\n",
    "    y = model(x)\n",
    "    y = np.argmax(y.data[0])\n",
    "    if t == y:\n",
    "        cnt += 1\n",
    "        \n",
    "print(\"test accuracy: {}\".format(cnt/test_data_num))"
   ]
  },
  {
   "cell_type": "markdown",
   "metadata": {
    "colab_type": "text",
    "id": "cxO7tnfWDHMJ"
   },
   "source": [
    "## 課題　\n",
    "### 以下の課題に取り組みましょう"
   ]
  },
  {
   "cell_type": "markdown",
   "metadata": {
    "colab_type": "text",
    "id": "knno-MVZ4Oye"
   },
   "source": [
    "1  ネットワーク構造を変えて実験しましょう． \n",
    "\n",
    "   まず，1層目の畳み込み層のフィルタ数を32にしましょう．また，2層目の畳み込み層のフィルタ数を64にしましょう．\n",
    "   \n",
    "   次に，中間層のユニット数を2048にしましょう．"
   ]
  },
  {
   "cell_type": "markdown",
   "metadata": {
    "colab_type": "text",
    "id": "5oYzfKGU4Idy"
   },
   "source": [
    "2  最適化の方法をAdamに変えて実験しましょう．\n"
   ]
  },
  {
   "cell_type": "markdown",
   "metadata": {
    "colab_type": "text",
    "id": "yyGUUy9p4Nwi"
   },
   "source": [
    "3  エポック数やミニバッチサイズを変えて実験しましょう．\n",
    "\n",
    "  まず，ミニバッチサイズを128にしましょう．\n",
    "  \n",
    "  次に，エポック数を50にしましょう．"
   ]
  },
  {
   "cell_type": "markdown",
   "metadata": {
    "colab_type": "text",
    "id": "ZLrRlGes_05w"
   },
   "source": [
    "4  GPUの有無による速度の差を比較しましょう\n"
   ]
  },
  {
   "cell_type": "markdown",
   "metadata": {
    "colab_type": "text",
    "id": "9YXi1OuUAETx"
   },
   "source": [
    "##別のコードの書き方\n",
    "\n",
    "前回のニューラルネットワークと同様にTrainerを利用したプログラムを作成します．"
   ]
  },
  {
   "cell_type": "code",
   "execution_count": null,
   "metadata": {
    "colab": {},
    "colab_type": "code",
    "id": "jpaJlB-CAEgP"
   },
   "outputs": [],
   "source": [
    "import numpy as np\n",
    "import chainer\n",
    "from chainer import cuda, optimizers\n",
    "from chainer import Chain, Variable\n",
    "import chainer.functions as F\n",
    "import chainer.links as L\n",
    "from chainer import training\n",
    "from chainer.training import extensions\n",
    "\n",
    "batch_size = 100\n",
    "epoch_num = 10\n",
    "\n",
    "n_units = 50\n",
    "out_units = 10\n",
    "\n",
    "model = L.Classifier(CNN())\n",
    "model.to_gpu() \n",
    "optimizer = chainer.optimizers.MomentumSGD(lr=0.01, momentum=0.9)\n",
    "optimizer.setup(model)  \n",
    "  \n",
    "train_dataset, test_dataset = chainer.datasets.get_mnist(ndim =3)\n",
    "\n",
    "train_iter = chainer.iterators.SerialIterator(train_dataset, batch_size)\n",
    "test_iter = chainer.iterators.SerialIterator(test_dataset, batch_size,    repeat=False, shuffle=False)\n",
    "\n",
    "updater = training.updaters.StandardUpdater( train_iter, optimizer, device=0)\n",
    "trainer = training.Trainer(updater, (epoch_num, 'epoch'), out='result')\n",
    "\n",
    "trainer.extend(extensions.Evaluator(test_iter, model, device=0))\n",
    "\n",
    "trainer.extend(extensions.dump_graph('main/loss'))\n",
    "\n",
    "trainer.extend(extensions.LogReport())\n",
    "\n",
    "trainer.extend(extensions.PlotReport(['main/loss', 'validation/main/loss'],  'epoch', file_name='loss.png'))\n",
    "trainer.extend(extensions.PlotReport(['main/accuracy', 'validation/main/accuracy'],'epoch', file_name='accuracy.png'))\n",
    "trainer.extend(extensions.PrintReport(['epoch', 'main/loss', 'validation/main/loss', 'main/accuracy', 'validation/main/accuracy', 'elapsed_time']))\n",
    "\n",
    "trainer.run()"
   ]
  }
 ],
 "metadata": {
  "accelerator": "GPU",
  "colab": {
   "collapsed_sections": [],
   "name": "02_CNN_chainer.ipynb",
   "provenance": [],
   "version": "0.3.2"
  },
  "kernelspec": {
   "display_name": "Python 3",
   "language": "python",
   "name": "python3"
  },
  "language_info": {
   "codemirror_mode": {
    "name": "ipython",
    "version": 3
   },
   "file_extension": ".py",
   "mimetype": "text/x-python",
   "name": "python",
   "nbconvert_exporter": "python",
   "pygments_lexer": "ipython3",
   "version": "3.7.3"
  }
 },
 "nbformat": 4,
 "nbformat_minor": 2
}
