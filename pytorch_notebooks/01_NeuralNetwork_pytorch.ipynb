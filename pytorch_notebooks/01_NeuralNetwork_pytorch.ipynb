{
 "cells": [
  {
   "cell_type": "markdown",
   "metadata": {
    "colab_type": "text",
    "id": "ed68qTOyYTNI"
   },
   "source": [
    "# PyTorchによるニューラルネットワーク\n",
    "\n",
    "pytorchをインストールします．\n",
    "CUDAのバージョンは8.0，pytorchのバージョンは0.4.0です．"
   ]
  },
  {
   "cell_type": "markdown",
   "metadata": {
    "colab_type": "text",
    "id": "ER0ztBYkY0zN"
   },
   "source": [
    "pytorchに必要なパッケージ類をインポートします"
   ]
  },
  {
   "cell_type": "code",
   "execution_count": null,
   "metadata": {
    "colab": {
     "autoexec": {
      "startup": false,
      "wait_interval": 0
     }
    },
    "colab_type": "code",
    "id": "EbQw7lBBKRfA"
   },
   "outputs": [],
   "source": [
    "import torch\n",
    "import torch.nn as nn\n",
    "import torchvision.datasets as dsets\n",
    "import torchvision.transforms as transforms\n",
    "from torch.autograd import Variable"
   ]
  },
  {
   "cell_type": "code",
   "execution_count": 15,
   "metadata": {
    "colab": {
     "autoexec": {
      "startup": false,
      "wait_interval": 0
     },
     "base_uri": "https://localhost:8080/",
     "height": 34
    },
    "colab_type": "code",
    "executionInfo": {
     "elapsed": 1049,
     "status": "ok",
     "timestamp": 1526800879794,
     "user": {
      "displayName": "Takayoshi Yamashita",
      "photoUrl": "https://lh3.googleusercontent.com/a/default-user=s128",
      "userId": "109048018733476271678"
     },
     "user_tz": -540
    },
    "id": "Oogn_oxFbIbj",
    "outputId": "4245e103-55e4-4e6d-e0bd-f9118a75f639"
   },
   "outputs": [
    {
     "data": {
      "text/plain": [
       "True"
      ]
     },
     "execution_count": 15,
     "metadata": {
      "tags": []
     },
     "output_type": "execute_result"
    }
   ],
   "source": [
    "torch.cuda.is_available()"
   ]
  },
  {
   "cell_type": "markdown",
   "metadata": {
    "colab_type": "text",
    "id": "Y0ePqcE9Y--a"
   },
   "source": []
  },
  {
   "cell_type": "code",
   "execution_count": null,
   "metadata": {
    "colab": {
     "autoexec": {
      "startup": false,
      "wait_interval": 0
     }
    },
    "colab_type": "code",
    "id": "1c0iUg1qKhjF"
   },
   "outputs": [],
   "source": [
    "input_size    = 784   \n",
    "hidden_size   = 500   \n",
    "num_classes   = 10 \n",
    "num_epochs    = 5  \n",
    "batch_size    = 100\n",
    "learning_rate = 1e-3"
   ]
  },
  {
   "cell_type": "code",
   "execution_count": 6,
   "metadata": {
    "colab": {
     "autoexec": {
      "startup": false,
      "wait_interval": 0
     },
     "base_uri": "https://localhost:8080/",
     "height": 119
    },
    "colab_type": "code",
    "executionInfo": {
     "elapsed": 3704,
     "status": "ok",
     "timestamp": 1526800402947,
     "user": {
      "displayName": "Takayoshi Yamashita",
      "photoUrl": "https://lh3.googleusercontent.com/a/default-user=s128",
      "userId": "109048018733476271678"
     },
     "user_tz": -540
    },
    "id": "LXZ8MDCdKk5L",
    "outputId": "010bc44b-7a64-4128-d533-5e6453d3d208"
   },
   "outputs": [
    {
     "name": "stdout",
     "output_type": "stream",
     "text": [
      "Downloading http://yann.lecun.com/exdb/mnist/train-images-idx3-ubyte.gz\n",
      "Downloading http://yann.lecun.com/exdb/mnist/train-labels-idx1-ubyte.gz\n",
      "Downloading http://yann.lecun.com/exdb/mnist/t10k-images-idx3-ubyte.gz\n",
      "Downloading http://yann.lecun.com/exdb/mnist/t10k-labels-idx1-ubyte.gz\n",
      "Processing...\n",
      "Done!\n"
     ]
    }
   ],
   "source": [
    "train_dataset = dsets.MNIST(root='./data', train=True,  transform=transforms.ToTensor(),   download=True)\n",
    "test_dataset = dsets.MNIST(root='./data', train=False,  transform=transforms.ToTensor())"
   ]
  },
  {
   "cell_type": "code",
   "execution_count": null,
   "metadata": {
    "colab": {
     "autoexec": {
      "startup": false,
      "wait_interval": 0
     }
    },
    "colab_type": "code",
    "id": "3NyfW6C8dJYJ"
   },
   "outputs": [],
   "source": [
    "train_loader = torch.utils.data.DataLoader(dataset=train_dataset, batch_size=batch_size, shuffle=True)\n",
    "test_loader = torch.utils.data.DataLoader(dataset=test_dataset, batch_size=batch_size, shuffle=False)\n"
   ]
  },
  {
   "cell_type": "code",
   "execution_count": null,
   "metadata": {
    "colab": {
     "autoexec": {
      "startup": false,
      "wait_interval": 0
     }
    },
    "colab_type": "code",
    "id": "b6nGBeKDRyhB"
   },
   "outputs": [],
   "source": [
    "class Net(nn.Module):\n",
    "    def __init__(self, input_size, hidden_size, num_classes):\n",
    "        super(Net, self).__init__()                  \n",
    "        self.fc1 = nn.Linear(input_size, hidden_size)  \n",
    "        self.relu = nn.ReLU()                          \n",
    "        self.fc2 = nn.Linear(hidden_size, num_classes) \n",
    "    \n",
    "    def forward(self, x):                            \n",
    "        out = self.fc1(x)\n",
    "        out = self.relu(out)\n",
    "        out = self.fc2(out)\n",
    "        return out\n"
   ]
  },
  {
   "cell_type": "code",
   "execution_count": null,
   "metadata": {
    "colab": {
     "autoexec": {
      "startup": false,
      "wait_interval": 0
     }
    },
    "colab_type": "code",
    "id": "-pgSR5jCSsQU"
   },
   "outputs": [],
   "source": [
    "net = Net(input_size, hidden_size, num_classes)"
   ]
  },
  {
   "cell_type": "code",
   "execution_count": null,
   "metadata": {
    "colab": {
     "autoexec": {
      "startup": false,
      "wait_interval": 0
     }
    },
    "colab_type": "code",
    "id": "n_PVdRrKLAcu"
   },
   "outputs": [],
   "source": [
    "use_cuda = True\n",
    "if use_cuda and torch.cuda.is_available():\n",
    "    net.cuda()"
   ]
  },
  {
   "cell_type": "code",
   "execution_count": null,
   "metadata": {
    "colab": {
     "autoexec": {
      "startup": false,
      "wait_interval": 0
     }
    },
    "colab_type": "code",
    "id": "y7XwNYNPLGA2"
   },
   "outputs": [],
   "source": [
    "criterion = nn.CrossEntropyLoss()\n",
    "optimizer = torch.optim.Adam(net.parameters(), lr=learning_rate)"
   ]
  },
  {
   "cell_type": "code",
   "execution_count": 13,
   "metadata": {
    "colab": {
     "autoexec": {
      "startup": false,
      "wait_interval": 0
     },
     "base_uri": "https://localhost:8080/",
     "height": 564
    },
    "colab_type": "code",
    "executionInfo": {
     "elapsed": 34187,
     "status": "ok",
     "timestamp": 1526800686252,
     "user": {
      "displayName": "Takayoshi Yamashita",
      "photoUrl": "https://lh3.googleusercontent.com/a/default-user=s128",
      "userId": "109048018733476271678"
     },
     "user_tz": -540
    },
    "id": "xttrh4TaLQY7",
    "outputId": "26dee41b-20d6-4910-d83d-b10391c12ebf"
   },
   "outputs": [
    {
     "name": "stderr",
     "output_type": "stream",
     "text": [
      "/usr/local/lib/python3.6/dist-packages/ipykernel_launcher.py:18: UserWarning: invalid index of a 0-dim tensor. This will be an error in PyTorch 0.5. Use tensor.item() to convert a 0-dim tensor to a Python number\n"
     ]
    },
    {
     "name": "stdout",
     "output_type": "stream",
     "text": [
      "Epoch [1/5], Step [100/600], Loss: 0.3437\n",
      "Epoch [1/5], Step [200/600], Loss: 0.2466\n",
      "Epoch [1/5], Step [300/600], Loss: 0.2327\n",
      "Epoch [1/5], Step [400/600], Loss: 0.1445\n",
      "Epoch [1/5], Step [500/600], Loss: 0.1672\n",
      "Epoch [1/5], Step [600/600], Loss: 0.2163\n",
      "Epoch [2/5], Step [100/600], Loss: 0.1865\n",
      "Epoch [2/5], Step [200/600], Loss: 0.1227\n",
      "Epoch [2/5], Step [300/600], Loss: 0.1054\n",
      "Epoch [2/5], Step [400/600], Loss: 0.1351\n",
      "Epoch [2/5], Step [500/600], Loss: 0.0858\n",
      "Epoch [2/5], Step [600/600], Loss: 0.1538\n",
      "Epoch [3/5], Step [100/600], Loss: 0.0468\n",
      "Epoch [3/5], Step [200/600], Loss: 0.0767\n",
      "Epoch [3/5], Step [300/600], Loss: 0.0357\n",
      "Epoch [3/5], Step [400/600], Loss: 0.0680\n",
      "Epoch [3/5], Step [500/600], Loss: 0.0620\n",
      "Epoch [3/5], Step [600/600], Loss: 0.0751\n",
      "Epoch [4/5], Step [100/600], Loss: 0.0384\n",
      "Epoch [4/5], Step [200/600], Loss: 0.1384\n",
      "Epoch [4/5], Step [300/600], Loss: 0.0482\n",
      "Epoch [4/5], Step [400/600], Loss: 0.0598\n",
      "Epoch [4/5], Step [500/600], Loss: 0.0241\n",
      "Epoch [4/5], Step [600/600], Loss: 0.0306\n",
      "Epoch [5/5], Step [100/600], Loss: 0.0297\n",
      "Epoch [5/5], Step [200/600], Loss: 0.0343\n",
      "Epoch [5/5], Step [300/600], Loss: 0.0485\n",
      "Epoch [5/5], Step [400/600], Loss: 0.0550\n",
      "Epoch [5/5], Step [500/600], Loss: 0.0410\n",
      "Epoch [5/5], Step [600/600], Loss: 0.0623\n"
     ]
    }
   ],
   "source": [
    "for epoch in range(num_epochs):\n",
    "    for i, (images, labels) in enumerate(train_loader):\n",
    "        images = Variable(images.view(-1, 28*28))    \n",
    "        labels = Variable(labels)\n",
    "        \n",
    "        if use_cuda and torch.cuda.is_available():\n",
    "            images = images.cuda()\n",
    "            labels = labels.cuda()\n",
    "        \n",
    "        optimizer.zero_grad()               \n",
    "        outputs = net(images)              \n",
    "        loss = criterion(outputs, labels)\n",
    "        loss.backward()                           \n",
    "        optimizer.step()                          \n",
    "        \n",
    "        if (i+1) % 100 == 0: \n",
    "            print('Epoch [%d/%d], Step [%d/%d], Loss: %.4f'\n",
    "                 %(epoch+1, num_epochs, i+1, len(train_dataset)//batch_size, loss.data[0]))\n"
   ]
  },
  {
   "cell_type": "code",
   "execution_count": 14,
   "metadata": {
    "colab": {
     "autoexec": {
      "startup": false,
      "wait_interval": 0
     },
     "base_uri": "https://localhost:8080/",
     "height": 34
    },
    "colab_type": "code",
    "executionInfo": {
     "elapsed": 2327,
     "status": "ok",
     "timestamp": 1526800749218,
     "user": {
      "displayName": "Takayoshi Yamashita",
      "photoUrl": "https://lh3.googleusercontent.com/a/default-user=s128",
      "userId": "109048018733476271678"
     },
     "user_tz": -540
    },
    "id": "O7BAsEP-anwq",
    "outputId": "1b155f21-e24e-45aa-93c2-e8eb46495abf"
   },
   "outputs": [
    {
     "name": "stdout",
     "output_type": "stream",
     "text": [
      "Accuracy of the network on the 10K test images: 98 %\n"
     ]
    }
   ],
   "source": [
    "correct = 0\n",
    "total = 0\n",
    "for images, labels in test_loader:\n",
    "    images = Variable(images.view(-1, 28*28))\n",
    "    \n",
    "    if use_cuda and torch.cuda.is_available():\n",
    "        images = images.cuda()\n",
    "        labels = labels.cuda()\n",
    "    \n",
    "    \n",
    "    outputs = net(images)\n",
    "    _, predicted = torch.max(outputs.data, 1) \n",
    "    total += labels.size(0)     \n",
    "    correct += (predicted == labels).sum()    \n",
    "    \n",
    "print('Accuracy of the network on the 10K test images: %d %%' % (100 * correct / total))"
   ]
  },
  {
   "cell_type": "code",
   "execution_count": null,
   "metadata": {
    "colab": {
     "autoexec": {
      "startup": false,
      "wait_interval": 0
     }
    },
    "colab_type": "code",
    "id": "v6B-IUe6at-t"
   },
   "outputs": [],
   "source": [
    "torch.save(net.state_dict(), 'fnn_model.pkl')"
   ]
  }
 ],
 "metadata": {
  "accelerator": "GPU",
  "colab": {
   "default_view": {},
   "name": "01_pytorch_NeuralNetwork.ipynb",
   "provenance": [],
   "version": "0.3.2",
   "views": {}
  },
  "kernelspec": {
   "display_name": "Python 3",
   "language": "python",
   "name": "python3"
  },
  "language_info": {
   "codemirror_mode": {
    "name": "ipython",
    "version": 3
   },
   "file_extension": ".py",
   "mimetype": "text/x-python",
   "name": "python",
   "nbconvert_exporter": "python",
   "pygments_lexer": "ipython3",
   "version": "3.7.3"
  }
 },
 "nbformat": 4,
 "nbformat_minor": 2
}
