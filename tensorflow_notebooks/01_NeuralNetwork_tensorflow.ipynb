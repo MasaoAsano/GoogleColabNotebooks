{
 "cells": [
  {
   "cell_type": "markdown",
   "metadata": {
    "colab_type": "text",
    "id": "6KXGk-IwxKyr"
   },
   "source": [
    "# TensorFlowによるニューラルネットワーク"
   ]
  },
  {
   "cell_type": "markdown",
   "metadata": {
    "colab_type": "text",
    "id": "wiXv2wIayBIp"
   },
   "source": [
    "TensorFlowでニューラルネットワークのプログラムを実装する方法として，セッションを準備して実行する方法，Estimatorを利用する方法，Eagerを利用する方法があります．ここでは，まずセッションを準備する方法について説明します．"
   ]
  },
  {
   "cell_type": "markdown",
   "metadata": {
    "colab_type": "text",
    "id": "rJF5Dboz0vdb"
   },
   "source": [
    "必要なパッケージをインポートします．\n",
    "また，GPUが利用可能かを確認します．"
   ]
  },
  {
   "cell_type": "code",
   "execution_count": 1,
   "metadata": {
    "colab": {
     "base_uri": "https://localhost:8080/",
     "height": 34
    },
    "colab_type": "code",
    "executionInfo": {
     "elapsed": 10252,
     "status": "ok",
     "timestamp": 1534325214401,
     "user": {
      "displayName": "Takayoshi Yamashita",
      "photoUrl": "https://lh3.googleusercontent.com/a/default-user=s128",
      "userId": "109048018733476271678"
     },
     "user_tz": -540
    },
    "id": "p3TDtyQgxApb",
    "outputId": "6500e888-c245-4c26-e67b-d1fa8261519c"
   },
   "outputs": [
    {
     "data": {
      "text/plain": [
       "'/device:GPU:0'"
      ]
     },
     "execution_count": 1,
     "metadata": {
      "tags": []
     },
     "output_type": "execute_result"
    }
   ],
   "source": [
    "import tensorflow as tf\n",
    "from tensorflow.examples.tutorials.mnist import input_data\n",
    "tf.test.gpu_device_name()"
   ]
  },
  {
   "cell_type": "markdown",
   "metadata": {
    "colab_type": "text",
    "id": "YzZcm4xOyCJ9"
   },
   "source": [
    "MNISTデータセットをダウンロードします．以下を実行するとWARNINGがいくつか表示されますが，問題ありません．"
   ]
  },
  {
   "cell_type": "code",
   "execution_count": 2,
   "metadata": {
    "colab": {
     "base_uri": "https://localhost:8080/",
     "height": 411
    },
    "colab_type": "code",
    "executionInfo": {
     "elapsed": 1384,
     "status": "ok",
     "timestamp": 1534325217893,
     "user": {
      "displayName": "Takayoshi Yamashita",
      "photoUrl": "https://lh3.googleusercontent.com/a/default-user=s128",
      "userId": "109048018733476271678"
     },
     "user_tz": -540
    },
    "id": "W9IP2sbRx-K9",
    "outputId": "28dd4409-41bc-4b37-8115-91b11b2b2022"
   },
   "outputs": [
    {
     "name": "stdout",
     "output_type": "stream",
     "text": [
      "WARNING:tensorflow:From <ipython-input-2-56e3e062ec64>:1: read_data_sets (from tensorflow.contrib.learn.python.learn.datasets.mnist) is deprecated and will be removed in a future version.\n",
      "Instructions for updating:\n",
      "Please use alternatives such as official/mnist/dataset.py from tensorflow/models.\n",
      "WARNING:tensorflow:From /usr/local/lib/python3.6/dist-packages/tensorflow/contrib/learn/python/learn/datasets/mnist.py:260: maybe_download (from tensorflow.contrib.learn.python.learn.datasets.base) is deprecated and will be removed in a future version.\n",
      "Instructions for updating:\n",
      "Please write your own downloading logic.\n",
      "WARNING:tensorflow:From /usr/local/lib/python3.6/dist-packages/tensorflow/contrib/learn/python/learn/datasets/mnist.py:262: extract_images (from tensorflow.contrib.learn.python.learn.datasets.mnist) is deprecated and will be removed in a future version.\n",
      "Instructions for updating:\n",
      "Please use tf.data to implement this functionality.\n",
      "Extracting ./train-images-idx3-ubyte.gz\n",
      "WARNING:tensorflow:From /usr/local/lib/python3.6/dist-packages/tensorflow/contrib/learn/python/learn/datasets/mnist.py:267: extract_labels (from tensorflow.contrib.learn.python.learn.datasets.mnist) is deprecated and will be removed in a future version.\n",
      "Instructions for updating:\n",
      "Please use tf.data to implement this functionality.\n",
      "Extracting ./train-labels-idx1-ubyte.gz\n",
      "WARNING:tensorflow:From /usr/local/lib/python3.6/dist-packages/tensorflow/contrib/learn/python/learn/datasets/mnist.py:110: dense_to_one_hot (from tensorflow.contrib.learn.python.learn.datasets.mnist) is deprecated and will be removed in a future version.\n",
      "Instructions for updating:\n",
      "Please use tf.one_hot on tensors.\n",
      "Extracting ./t10k-images-idx3-ubyte.gz\n",
      "Extracting ./t10k-labels-idx1-ubyte.gz\n",
      "WARNING:tensorflow:From /usr/local/lib/python3.6/dist-packages/tensorflow/contrib/learn/python/learn/datasets/mnist.py:290: DataSet.__init__ (from tensorflow.contrib.learn.python.learn.datasets.mnist) is deprecated and will be removed in a future version.\n",
      "Instructions for updating:\n",
      "Please use alternatives such as official/mnist/dataset.py from tensorflow/models.\n"
     ]
    }
   ],
   "source": [
    "mnist = input_data.read_data_sets(\"./\", one_hot=True)"
   ]
  },
  {
   "cell_type": "markdown",
   "metadata": {
    "colab_type": "text",
    "id": "vnk-JucmyHCL"
   },
   "source": [
    "パラメータ設定を行います．学習率(learning_rate)，学習更新回数(num_steps)，ミニバッチサイズ(batch_size)，画面出力するステップ数(display_step)を用意します．\n",
    "また，ニューラルネットワークのパラメータとして，中間層のユニット数(n_hidden_1とn_hidden_2)を256とします．入力層のユニット数(num_input)は784，出力層のユニット数は(num_classes)は10とします．"
   ]
  },
  {
   "cell_type": "code",
   "execution_count": null,
   "metadata": {
    "colab": {},
    "colab_type": "code",
    "id": "0ZK5r2DNyGLq"
   },
   "outputs": [],
   "source": [
    "learning_rate = 0.1\n",
    "num_steps = 5000\n",
    "batch_size = 128\n",
    "display_step = 100\n",
    "\n",
    "\n",
    "n_hidden_1 = 256\n",
    "n_hidden_2 = 256\n",
    "num_input = 784 \n",
    "num_classes = 10\n",
    "\n"
   ]
  },
  {
   "cell_type": "markdown",
   "metadata": {
    "colab_type": "text",
    "id": "_Q39mHLvyk4Y"
   },
   "source": [
    "学習データと教師ラベルを準備します．\n",
    "placeholderは，データを格納する入れ物です．ここでは，入れ物のサイズだけを決めて，具体的な値は実行する時に与えます．"
   ]
  },
  {
   "cell_type": "code",
   "execution_count": null,
   "metadata": {
    "colab": {},
    "colab_type": "code",
    "id": "FI879-osyihG"
   },
   "outputs": [],
   "source": [
    "X = tf.placeholder(\"float\", [None, num_input])\n",
    "Y = tf.placeholder(\"float\", [None, num_classes])"
   ]
  },
  {
   "cell_type": "markdown",
   "metadata": {
    "colab_type": "text",
    "id": "Fpe6q2ne2tPx"
   },
   "source": [
    "ニューラルネットワークのパラメータを記憶しておく重み(weights)とバイアス(biases)を定義します．入力層と中間層の間の重みをh1，１つ目の中間層と2つ目の中間層の間の重みをh2，2つ目の中間層と出力層の間の重みをoutとします．バイアスも同様それぞれb1, b2, outとします．"
   ]
  },
  {
   "cell_type": "code",
   "execution_count": null,
   "metadata": {
    "colab": {},
    "colab_type": "code",
    "id": "v5DFJ_Mky7TP"
   },
   "outputs": [],
   "source": [
    "weights = {\n",
    "    'h1': tf.Variable(tf.random_normal([num_input, n_hidden_1])),\n",
    "    'h2': tf.Variable(tf.random_normal([n_hidden_1, n_hidden_2])),\n",
    "    'out': tf.Variable(tf.random_normal([n_hidden_2, num_classes]))\n",
    "}\n",
    "biases = {\n",
    "    'b1': tf.Variable(tf.random_normal([n_hidden_1])),\n",
    "    'b2': tf.Variable(tf.random_normal([n_hidden_2])),\n",
    "    'out': tf.Variable(tf.random_normal([num_classes]))\n",
    "}"
   ]
  },
  {
   "cell_type": "markdown",
   "metadata": {
    "colab_type": "text",
    "id": "e698krXc3fo6"
   },
   "source": [
    "ネットワークモデルをneural_netとして定義します．１層目(layer_1)は入力xと重みh1をmatmulで乗算し，addでバイアスb1を加算します．２層目(layer_2)は，１層目の出力layer_1と重みh2をmatmulで乗算し，addでバイアスb2を加算します．そして，２層目の出力layer_2と出力層の重みoutを乗算し，バイアスoutを加算します．その結果(out_layer)を戻り値とします．"
   ]
  },
  {
   "cell_type": "code",
   "execution_count": null,
   "metadata": {
    "colab": {},
    "colab_type": "code",
    "id": "I4_cPkN7zA4n"
   },
   "outputs": [],
   "source": [
    "def neural_net(x):\n",
    "    layer_1 = tf.add(tf.matmul(x, weights['h1']), biases['b1'])\n",
    "    layer_2 = tf.add(tf.matmul(layer_1, weights['h2']), biases['b2'])\n",
    "    out_layer = tf.matmul(layer_2, weights['out']) + biases['out']\n",
    "    return out_layer"
   ]
  },
  {
   "cell_type": "markdown",
   "metadata": {
    "colab_type": "text",
    "id": "IhMF1nwZ4Tb6"
   },
   "source": [
    "先ほど定義したネットワークモデルをlogitsとします．"
   ]
  },
  {
   "cell_type": "code",
   "execution_count": null,
   "metadata": {
    "colab": {},
    "colab_type": "code",
    "id": "5kO6rXPY4Z5U"
   },
   "outputs": [],
   "source": [
    "logits = neural_net(X)"
   ]
  },
  {
   "cell_type": "markdown",
   "metadata": {
    "colab_type": "text",
    "id": "xgcL-8mu4dtB"
   },
   "source": [
    "誤差関数と最適化の方法を定義します．ここでは，物体認識を行うのでソフトマックスクロスエントロピーを誤差関数とします．最適化の方法には，Adamを利用します．誤差はminimizeで最小化するようにします．"
   ]
  },
  {
   "cell_type": "code",
   "execution_count": null,
   "metadata": {
    "colab": {},
    "colab_type": "code",
    "id": "8atjy0aq5c2T"
   },
   "outputs": [],
   "source": [
    "loss_op = tf.reduce_mean(tf.nn.softmax_cross_entropy_with_logits( logits=logits, labels=Y))\n",
    "optimizer = tf.train.AdamOptimizer(learning_rate=learning_rate)\n",
    "\n",
    "train_op = optimizer.minimize(loss_op)"
   ]
  },
  {
   "cell_type": "markdown",
   "metadata": {
    "colab_type": "text",
    "id": "Zza5fkvU5d8-"
   },
   "source": [
    "次に評価を行う準備をします．ネットワークからの出力値が最大となるクラスの番号と教師データが一致するかをequalで判定します．全てのデータに対する結果をまとめてaccuracyを算出します．"
   ]
  },
  {
   "cell_type": "code",
   "execution_count": null,
   "metadata": {
    "colab": {},
    "colab_type": "code",
    "id": "llC2SFfm52E5"
   },
   "outputs": [],
   "source": [
    "correct_pred = tf.equal(tf.argmax(logits, 1), tf.argmax(Y, 1))\n",
    "accuracy = tf.reduce_mean(tf.cast(correct_pred, tf.float32))"
   ]
  },
  {
   "cell_type": "markdown",
   "metadata": {
    "colab_type": "text",
    "id": "AytJqw7T556A"
   },
   "source": [
    "ネットワークのパラメータはVariablesという値の変化を記憶するクラスで準備しています．最初にこれらの値を初期化します．"
   ]
  },
  {
   "cell_type": "code",
   "execution_count": null,
   "metadata": {
    "colab": {},
    "colab_type": "code",
    "id": "MPsg9TLkzCRs"
   },
   "outputs": [],
   "source": [
    "init = tf.global_variables_initializer()"
   ]
  },
  {
   "cell_type": "markdown",
   "metadata": {
    "colab_type": "text",
    "id": "eZdpwC-861xK"
   },
   "source": [
    "学習を実行するために，セッションをtf.Session()で準備します．そして，セッションをsess.runで実行しますが，最初に引数にinitを与えて初期化されたパラメータを渡します．for文内で繰り返し学習を行います．ここでは，まずミニバッチサイズ分の学習データと教師データを取得し，sess.run(XXX)で引数に指定したtrain_opを実行します．fee_dictとして与えたデータをネットワークに順伝播し，誤差を算出します．もし，更新回数がdisplay_stepで割り切れる場合は誤差と精度を画面に出力します．"
   ]
  },
  {
   "cell_type": "code",
   "execution_count": 29,
   "metadata": {
    "colab": {
     "base_uri": "https://localhost:8080/",
     "height": 918
    },
    "colab_type": "code",
    "executionInfo": {
     "elapsed": 14697,
     "status": "ok",
     "timestamp": 1534326497146,
     "user": {
      "displayName": "Takayoshi Yamashita",
      "photoUrl": "https://lh3.googleusercontent.com/a/default-user=s128",
      "userId": "109048018733476271678"
     },
     "user_tz": -540
    },
    "id": "el4S6uEezK50",
    "outputId": "81b3c662-c845-4009-bd26-5825c5026191"
   },
   "outputs": [
    {
     "name": "stdout",
     "output_type": "stream",
     "text": [
      "Step 1, Minibatch Loss= 9745.2559, Training Accuracy= 0.312\n",
      "Step 100, Minibatch Loss= 497.6499, Training Accuracy= 0.867\n",
      "Step 200, Minibatch Loss= 220.8164, Training Accuracy= 0.828\n",
      "Step 300, Minibatch Loss= 86.5161, Training Accuracy= 0.898\n",
      "Step 400, Minibatch Loss= 43.7917, Training Accuracy= 0.883\n",
      "Step 500, Minibatch Loss= 70.9563, Training Accuracy= 0.859\n",
      "Step 600, Minibatch Loss= 32.7685, Training Accuracy= 0.891\n",
      "Step 700, Minibatch Loss= 36.7726, Training Accuracy= 0.883\n",
      "Step 800, Minibatch Loss= 57.4573, Training Accuracy= 0.859\n",
      "Step 900, Minibatch Loss= 38.2886, Training Accuracy= 0.898\n",
      "Step 1000, Minibatch Loss= 40.9444, Training Accuracy= 0.867\n",
      "Step 1100, Minibatch Loss= 46.4080, Training Accuracy= 0.867\n",
      "Step 1200, Minibatch Loss= 32.3937, Training Accuracy= 0.867\n",
      "Step 1300, Minibatch Loss= 29.7861, Training Accuracy= 0.883\n",
      "Step 1400, Minibatch Loss= 50.4438, Training Accuracy= 0.859\n",
      "Step 1500, Minibatch Loss= 22.7806, Training Accuracy= 0.883\n",
      "Step 1600, Minibatch Loss= 65.4655, Training Accuracy= 0.852\n",
      "Step 1700, Minibatch Loss= 44.2668, Training Accuracy= 0.828\n",
      "Step 1800, Minibatch Loss= 36.0115, Training Accuracy= 0.859\n",
      "Step 1900, Minibatch Loss= 53.5848, Training Accuracy= 0.828\n",
      "Step 2000, Minibatch Loss= 61.7593, Training Accuracy= 0.828\n",
      "Step 2100, Minibatch Loss= 98.7453, Training Accuracy= 0.820\n",
      "Step 2200, Minibatch Loss= 29.5415, Training Accuracy= 0.875\n",
      "Step 2300, Minibatch Loss= 63.1723, Training Accuracy= 0.844\n",
      "Step 2400, Minibatch Loss= 42.1896, Training Accuracy= 0.906\n",
      "Step 2500, Minibatch Loss= 29.9740, Training Accuracy= 0.883\n",
      "Step 2600, Minibatch Loss= 31.4986, Training Accuracy= 0.875\n",
      "Step 2700, Minibatch Loss= 48.4131, Training Accuracy= 0.852\n",
      "Step 2800, Minibatch Loss= 38.2951, Training Accuracy= 0.820\n",
      "Step 2900, Minibatch Loss= 26.0764, Training Accuracy= 0.914\n",
      "Step 3000, Minibatch Loss= 26.8484, Training Accuracy= 0.891\n",
      "Step 3100, Minibatch Loss= 51.3344, Training Accuracy= 0.828\n",
      "Step 3200, Minibatch Loss= 29.0772, Training Accuracy= 0.875\n",
      "Step 3300, Minibatch Loss= 101.6250, Training Accuracy= 0.773\n",
      "Step 3400, Minibatch Loss= 48.2128, Training Accuracy= 0.812\n",
      "Step 3500, Minibatch Loss= 117.3490, Training Accuracy= 0.883\n",
      "Step 3600, Minibatch Loss= 40125.5195, Training Accuracy= 0.812\n",
      "Step 3700, Minibatch Loss= 4042.4131, Training Accuracy= 0.852\n",
      "Step 3800, Minibatch Loss= 1446.3352, Training Accuracy= 0.875\n",
      "Step 3900, Minibatch Loss= 814.3226, Training Accuracy= 0.875\n",
      "Step 4000, Minibatch Loss= 182.1381, Training Accuracy= 0.930\n",
      "Step 4100, Minibatch Loss= 447.2475, Training Accuracy= 0.891\n",
      "Step 4200, Minibatch Loss= 267.1522, Training Accuracy= 0.898\n",
      "Step 4300, Minibatch Loss= 222.8645, Training Accuracy= 0.883\n",
      "Step 4400, Minibatch Loss= 271.7889, Training Accuracy= 0.891\n",
      "Step 4500, Minibatch Loss= 184.7608, Training Accuracy= 0.898\n",
      "Step 4600, Minibatch Loss= 38.2063, Training Accuracy= 0.930\n",
      "Step 4700, Minibatch Loss= 99.8326, Training Accuracy= 0.836\n",
      "Step 4800, Minibatch Loss= 82.3657, Training Accuracy= 0.898\n",
      "Step 4900, Minibatch Loss= 57.3403, Training Accuracy= 0.891\n",
      "Step 5000, Minibatch Loss= 92.5961, Training Accuracy= 0.852\n",
      "Optimization Finished!\n",
      "Testing Accuracy: 0.8885\n"
     ]
    }
   ],
   "source": [
    "with tf.Session() as sess:\n",
    "    sess.run(init)\n",
    "\n",
    "    for step in range(1, num_steps+1):\n",
    "        batch_x, batch_y = mnist.train.next_batch(batch_size)\n",
    "        sess.run(train_op, feed_dict={X: batch_x, Y: batch_y})\n",
    "        if step % display_step == 0 or step == 1:\n",
    "            loss, acc = sess.run([loss_op, accuracy], feed_dict={X: batch_x, Y: batch_y})\n",
    "            print(\"Step \" + str(step) + \", Minibatch Loss= \" + \\\n",
    "                  \"{:.4f}\".format(loss) + \", Training Accuracy= \" + \\\n",
    "                  \"{:.3f}\".format(acc))\n",
    "\n",
    "    print(\"Optimization Finished!\")\n",
    "\n",
    "    print(\"Test Accuracy:\", \\\n",
    "        sess.run(accuracy, feed_dict={X: mnist.test.images,\n",
    "                                      Y: mnist.test.labels}))"
   ]
  },
  {
   "cell_type": "markdown",
   "metadata": {
    "colab_type": "text",
    "id": "X-tuDB0w8Lga"
   },
   "source": [
    "##課題\n",
    "\n",
    "1. 学習更新回数を1000，2000，5000と増やした場合の精度を比較しましょう\n",
    "\n",
    "2. 中間層のユニット数を256から512または1024と増やした場合の精度を比較しましょう\n",
    "\n",
    "3. 中間層の層数を2層から3層に増やしてみましょう\n"
   ]
  }
 ],
 "metadata": {
  "accelerator": "GPU",
  "colab": {
   "name": "01_NeuralNetwork_tensorflow.ipynb",
   "provenance": [],
   "version": "0.3.2"
  },
  "kernelspec": {
   "display_name": "Python 3",
   "language": "python",
   "name": "python3"
  },
  "language_info": {
   "codemirror_mode": {
    "name": "ipython",
    "version": 3
   },
   "file_extension": ".py",
   "mimetype": "text/x-python",
   "name": "python",
   "nbconvert_exporter": "python",
   "pygments_lexer": "ipython3",
   "version": "3.7.3"
  }
 },
 "nbformat": 4,
 "nbformat_minor": 2
}
